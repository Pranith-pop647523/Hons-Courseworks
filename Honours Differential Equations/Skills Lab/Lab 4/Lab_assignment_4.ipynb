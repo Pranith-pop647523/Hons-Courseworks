{
 "cells": [
  {
   "cell_type": "markdown",
   "metadata": {},
   "source": [
    "# Lab Assignment 4\n",
    "\n",
    "## Your Name, s1234567\n",
    "\n"
   ]
  },
  {
   "cell_type": "markdown",
   "metadata": {},
   "source": [
    "## Task 1 (5 marks)\n",
    "\n",
    "Give your implementation of the `plot_approx` and `approx_fourier` functions from Lab 4.\n",
    "\n",
    "Use them to produce a plot of a Fourier series approximation of the function defined by\n",
    "\n",
    "$$\n",
    "f(x)=\\left\\{\\begin{array}{ll}\n",
    "-\\frac{1}{2} x & -2 \\leq x<0 \\\\\n",
    "2 x-\\frac{1}{2} x^2 & 0 \\leq x<2\n",
    "\\end{array} \\quad f(x+4)=f(x)\\right.\n",
    "$$\n",
    "\n",
    "using the first 10 terms of the Fourier series.\n",
    "\n",
    "Also include a piecewise plot of $f(x)$ for a single interval of periodicity."
   ]
  },
  {
   "cell_type": "code",
   "execution_count": null,
   "metadata": {},
   "outputs": [],
   "source": []
  },
  {
   "cell_type": "code",
   "execution_count": null,
   "metadata": {},
   "outputs": [],
   "source": []
  },
  {
   "cell_type": "markdown",
   "metadata": {},
   "source": [
    "## Task 2 (5 marks)\n",
    "\n",
    "Solve Exercise $3.1$ from Lab 4 , but with the initial condition\n",
    "\n",
    "$$\n",
    "u(x, 0)=f(x)= \\begin{cases}1 & L / 2-1<x<L / 2+1 \\\\ 0 & \\text { otherwise. }\\end{cases}\n",
    "$$\n",
    "\n",
    "Note that to ensure the code runs in reasonable time, you should use $L=10$ and run the animation for $0 \\leq t \\leq 20$, with only 2 frames per second. You should use at least 200 terms of the series solution in order to obtain a good approximation.\n",
    "Describe the behaviour of the solution."
   ]
  },
  {
   "cell_type": "code",
   "execution_count": null,
   "metadata": {},
   "outputs": [],
   "source": []
  },
  {
   "cell_type": "markdown",
   "metadata": {},
   "source": [
    "## Submission instructions\n",
    "\n",
    "After producing the animation (as in the lab), you should also use the following line of code to produce an mp4 file of your animation. The file should then appear alongside the .ipynb file in your Jupyter file list. Note, if you are not using noteable, you will need to install ffmpeg. You can see this page for instructions https://ffmpeg.org/."
   ]
  },
  {
   "cell_type": "code",
   "execution_count": null,
   "metadata": {},
   "outputs": [],
   "source": [
    "ani.save('hdeq_lab4_task2.mp4', writer='ffmpeg', fps=20)"
   ]
  },
  {
   "cell_type": "markdown",
   "metadata": {},
   "source": [
    "Alternatively, you can use the code "
   ]
  },
  {
   "cell_type": "code",
   "execution_count": null,
   "metadata": {},
   "outputs": [],
   "source": [
    "ani.save('hdeq_lab4_task2.gif', writer='Pillow ', fps=20)"
   ]
  },
  {
   "cell_type": "markdown",
   "metadata": {},
   "source": [
    "To save the simulation as a gif. Upload four files on gradsecope the .pdf, the .ipynb, the .py and the .mp4 (or .gif)."
   ]
  },
  {
   "cell_type": "code",
   "execution_count": null,
   "metadata": {},
   "outputs": [],
   "source": []
  }
 ],
 "metadata": {
  "kernelspec": {
   "display_name": "Python 3 (ipykernel)",
   "language": "python",
   "name": "python3"
  },
  "language_info": {
   "codemirror_mode": {
    "name": "ipython",
    "version": 3
   },
   "file_extension": ".py",
   "mimetype": "text/x-python",
   "name": "python",
   "nbconvert_exporter": "python",
   "pygments_lexer": "ipython3",
   "version": "3.9.7"
  },
  "varInspector": {
   "cols": {
    "lenName": 16,
    "lenType": 16,
    "lenVar": 40
   },
   "kernels_config": {
    "python": {
     "delete_cmd_postfix": "",
     "delete_cmd_prefix": "del ",
     "library": "var_list.py",
     "varRefreshCmd": "print(var_dic_list())"
    },
    "r": {
     "delete_cmd_postfix": ") ",
     "delete_cmd_prefix": "rm(",
     "library": "var_list.r",
     "varRefreshCmd": "cat(var_dic_list()) "
    }
   },
   "types_to_exclude": [
    "module",
    "function",
    "builtin_function_or_method",
    "instance",
    "_Feature"
   ],
   "window_display": false
  }
 },
 "nbformat": 4,
 "nbformat_minor": 2
}
